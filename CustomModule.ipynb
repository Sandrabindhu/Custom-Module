{
 "cells": [
  {
   "cell_type": "code",
   "execution_count": null,
   "id": "63567716-066c-4768-ba74-a88c5993cdbf",
   "metadata": {},
   "outputs": [],
   "source": [
    "# PYTHON - CUSTOM MODULE PROJECT:-"
   ]
  },
  {
   "cell_type": "code",
   "execution_count": 3,
   "id": "852e0eea-a3f6-4368-ba91-71eda0ac7678",
   "metadata": {},
   "outputs": [
    {
     "name": "stdout",
     "output_type": "stream",
     "text": [
      "Select operation.\n",
      "1.Add\n",
      "2.Subtract\n",
      "3.Multiply\n",
      "4.Divide\n"
     ]
    },
    {
     "name": "stdin",
     "output_type": "stream",
     "text": [
      "Enter your choice(1/2/3/4):  1\n",
      "Enter first number:  3\n",
      "Enter second number:  3\n"
     ]
    },
    {
     "name": "stdout",
     "output_type": "stream",
     "text": [
      "3.0 + 3.0 = 6.0\n"
     ]
    }
   ],
   "source": [
    "def add(x,y):\n",
    "    return x + y\n",
    "def subtract(x,y):\n",
    "    return x - y\n",
    "def multiply(x,y):\n",
    "    return x * y\n",
    "def divide(x,y):\n",
    "    return x / y\n",
    "print(\"Select operation.\")\n",
    "print(\"1.Add\")\n",
    "print(\"2.Subtract\")\n",
    "print(\"3.Multiply\")\n",
    "print(\"4.Divide\")\n",
    "while True:\n",
    "    choice = input(\"Enter your choice(1/2/3/4): \")\n",
    "    if choice in ('1', '2', '3', '4'):\n",
    "        number1 = float(input(\"Enter first number: \"))\n",
    "        number2 = float(input(\"Enter second number: \"))\n",
    "        if choice == '1':\n",
    "           print(number1, \"+\", number2, \"=\", add(number1, number2))\n",
    "        elif choice == '2':\n",
    "           print(number1, \"-\", number2, \"=\", subtract(number1, number2))\n",
    "        elif choice == '3':\n",
    "           print(number1, \"*\", number2, \"=\", multiply(number1, number2))\n",
    "        elif choice == '4':\n",
    "           print(number1, \"/\", number2, \"=\", divide(number1, number2))\n",
    "        break\n",
    "    else:\n",
    "         print(\"Entered input is invalid\")"
   ]
  },
  {
   "cell_type": "markdown",
   "id": "26ed202d-d45f-4dab-87cc-0585e084a0b4",
   "metadata": {},
   "source": [
    "##### \n"
   ]
  },
  {
   "cell_type": "code",
   "execution_count": null,
   "id": "93139d67-fa90-4f1f-a671-75e0ce575d25",
   "metadata": {},
   "outputs": [],
   "source": []
  }
 ],
 "metadata": {
  "kernelspec": {
   "display_name": "Python 3 (ipykernel)",
   "language": "python",
   "name": "python3"
  },
  "language_info": {
   "codemirror_mode": {
    "name": "ipython",
    "version": 3
   },
   "file_extension": ".py",
   "mimetype": "text/x-python",
   "name": "python",
   "nbconvert_exporter": "python",
   "pygments_lexer": "ipython3",
   "version": "3.12.4"
  }
 },
 "nbformat": 4,
 "nbformat_minor": 5
}
